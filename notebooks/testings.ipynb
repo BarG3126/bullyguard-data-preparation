{
 "cells": [
  {
   "cell_type": "code",
   "execution_count": 1,
   "id": "c623939b-95bc-4bbd-9b63-7c2825130470",
   "metadata": {},
   "outputs": [
    {
     "name": "stdout",
     "output_type": "stream",
     "text": [
      "/app\n"
     ]
    },
    {
     "name": "stderr",
     "output_type": "stream",
     "text": [
      "/home/bar3126/venv/lib/python3.10/site-packages/IPython/core/magics/osm.py:417: UserWarning: This is now an optional IPython functionality, setting dhist requires you to install the `pickleshare` library.\n",
      "  self.shell.db['dhist'] = compress_dhist(dhist)[-100:]\n"
     ]
    }
   ],
   "source": [
    "cd /app"
   ]
  },
  {
   "cell_type": "code",
   "execution_count": 2,
   "id": "015a28a3-f857-4244-88e4-ec65de3461ff",
   "metadata": {},
   "outputs": [
    {
     "name": "stdout",
     "output_type": "stream",
     "text": [
      "/app\n"
     ]
    }
   ],
   "source": [
    "!pwd"
   ]
  },
  {
   "cell_type": "code",
   "execution_count": 4,
   "id": "96e017f4-0317-4843-9401-a20d2cf8ca43",
   "metadata": {},
   "outputs": [],
   "source": [
    "from bullyguard.data_processing.dataset_cleaners import SpellCorrectionDatasetCleaner\n",
    "from bullyguard.utils.utils import SpellCorrectionModel"
   ]
  },
  {
   "cell_type": "code",
   "execution_count": 5,
   "id": "c4b6fc8e-d8f4-4f87-87b8-5e8dac908b07",
   "metadata": {},
   "outputs": [],
   "source": [
    "spell_correction_model = SpellCorrectionModel()\n",
    "cleaner = SpellCorrectionDatasetCleaner(spell_correction_model)"
   ]
  },
  {
   "cell_type": "code",
   "execution_count": 6,
   "id": "bfc11a11-f327-4213-b29a-c72b83dec85c",
   "metadata": {},
   "outputs": [],
   "source": [
    "text = \"whereis th elove hehad dated forImuch of thepast who couqdn'tread in sixthgrade and ins pired him.\" "
   ]
  },
  {
   "cell_type": "code",
   "execution_count": 7,
   "id": "f5125d4e-9ae6-47cd-976a-6c2a8cef4be5",
   "metadata": {},
   "outputs": [
    {
     "data": {
      "text/plain": [
       "\"where is the love he had dated for much of the past who couldn't read in sixth grade and inspired him\""
      ]
     },
     "execution_count": 7,
     "metadata": {},
     "output_type": "execute_result"
    }
   ],
   "source": [
    "cleaner(text)"
   ]
  },
  {
   "cell_type": "code",
   "execution_count": null,
   "id": "7a115fae-3eca-4b62-8521-afabce7cb0aa",
   "metadata": {},
   "outputs": [],
   "source": []
  }
 ],
 "metadata": {
  "kernelspec": {
   "display_name": "Python 3 (ipykernel)",
   "language": "python",
   "name": "python3"
  },
  "language_info": {
   "codemirror_mode": {
    "name": "ipython",
    "version": 3
   },
   "file_extension": ".py",
   "mimetype": "text/x-python",
   "name": "python",
   "nbconvert_exporter": "python",
   "pygments_lexer": "ipython3",
   "version": "3.10.16"
  }
 },
 "nbformat": 4,
 "nbformat_minor": 5
}
