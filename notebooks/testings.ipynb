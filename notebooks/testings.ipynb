{
 "cells": [
  {
   "cell_type": "code",
   "execution_count": 1,
   "id": "c623939b-95bc-4bbd-9b63-7c2825130470",
   "metadata": {},
   "outputs": [
    {
     "name": "stdout",
     "output_type": "stream",
     "text": [
      "/app\n"
     ]
    },
    {
     "name": "stderr",
     "output_type": "stream",
     "text": [
      "/home/bar3126/venv/lib/python3.10/site-packages/IPython/core/magics/osm.py:417: UserWarning: This is now an optional IPython functionality, setting dhist requires you to install the `pickleshare` library.\n",
      "  self.shell.db['dhist'] = compress_dhist(dhist)[-100:]\n"
     ]
    }
   ],
   "source": [
    "cd /app"
   ]
  },
  {
   "cell_type": "code",
   "execution_count": 2,
   "id": "015a28a3-f857-4244-88e4-ec65de3461ff",
   "metadata": {},
   "outputs": [
    {
     "name": "stdout",
     "output_type": "stream",
     "text": [
      "/app\n"
     ]
    }
   ],
   "source": [
    "!pwd"
   ]
  },
  {
   "cell_type": "code",
   "execution_count": 4,
   "id": "96e017f4-0317-4843-9401-a20d2cf8ca43",
   "metadata": {},
   "outputs": [],
   "source": [
    "from bullyguard.data_processing.dataset_cleaners import SpellCorrectionDatasetCleaner\n",
    "from bullyguard.utils.utils import SpellCorrectionModel"
   ]
  },
  {
   "cell_type": "code",
   "execution_count": 5,
   "id": "c4b6fc8e-d8f4-4f87-87b8-5e8dac908b07",
   "metadata": {},
   "outputs": [],
   "source": [
    "spell_correction_model = SpellCorrectionModel()\n",
    "cleaner = SpellCorrectionDatasetCleaner(spell_correction_model)"
   ]
  },
  {
   "cell_type": "code",
   "execution_count": 6,
   "id": "bfc11a11-f327-4213-b29a-c72b83dec85c",
   "metadata": {},
   "outputs": [],
   "source": [
    "text = \"whereis th elove hehad dated forImuch of thepast who couqdn'tread in sixthgrade and ins pired him.\" "
   ]
  },
  {
   "cell_type": "code",
   "execution_count": 7,
   "id": "f5125d4e-9ae6-47cd-976a-6c2a8cef4be5",
   "metadata": {},
   "outputs": [
    {
     "data": {
      "text/plain": [
       "\"where is the love he had dated for much of the past who couldn't read in sixth grade and inspired him\""
      ]
     },
     "execution_count": 7,
     "metadata": {},
     "output_type": "execute_result"
    }
   ],
   "source": [
    "cleaner(text)"
   ]
  },
  {
   "cell_type": "code",
   "execution_count": 3,
   "id": "7a115fae-3eca-4b62-8521-afabce7cb0aa",
   "metadata": {},
   "outputs": [],
   "source": [
    "import pandas as pd\n",
    "from sklearn.model_selection import StratifiedKFold\n",
    "\n",
    "def reduce_dataset_stratified(file_path, output_path, target_columns=None, separator=','):\n",
    "    # Read the file\n",
    "    df = pd.read_csv(file_path, sep=separator)\n",
    "    \n",
    "    if target_columns:\n",
    "        # If target columns are specified, use StratifiedKFold\n",
    "        if isinstance(target_columns, str):\n",
    "            target_columns = [target_columns]\n",
    "        \n",
    "        # Create a combined target for stratification\n",
    "        df['combined_target'] = df[target_columns].apply(lambda row: '_'.join(row.astype(str)), axis=1)\n",
    "        \n",
    "        skf = StratifiedKFold(n_splits=2, shuffle=True, random_state=42)\n",
    "        \n",
    "        # Get the indices for the stratified split\n",
    "        for _, reduced_indices in skf.split(df, df['combined_target']):\n",
    "            df_reduced = df.iloc[reduced_indices]\n",
    "            break\n",
    "        \n",
    "        # Remove the combined target column\n",
    "        df_reduced = df_reduced.drop('combined_target', axis=1)\n",
    "    else:\n",
    "        # If no target columns are specified, use random sampling\n",
    "        df_reduced = df.sample(frac=0.5, random_state=42)\n",
    "    \n",
    "    # Save the reduced dataset\n",
    "    df_reduced.to_csv(output_path, sep=separator, index=False)\n",
    "    \n",
    "    print(f\"Original dataset size: {len(df)}\")\n",
    "    print(f\"Reduced dataset size: {len(df_reduced)}\")\n",
    "    print(f\"Reduced dataset saved to: {output_path}\")\n"
   ]
  },
  {
   "cell_type": "code",
   "execution_count": null,
   "id": "a15dfc54-b6a0-4e07-a638-fe18ff30e7eb",
   "metadata": {},
   "outputs": [],
   "source": [
    "# For the .tsv file (assuming 'hd', 'cv', 'vo' are target variables)\n",
    "reduce_dataset_stratified('data/raw/ghc/ghc_test.tsv', 'ghc_test.tsv1', \n",
    "                          target_columns=['hd', 'cv', 'vo'], separator='\\t')\n",
    "\n",
    "reduce_dataset_stratified('data/raw/ghc/ghc_train.tsv', 'ghc_train.tsv1', \n",
    "                          target_columns=['hd', 'cv', 'vo'], separator='\\t')\n",
    "\n",
    "reduce_dataset_stratified('data/raw/ghc/GabHateCorpus_annotations.tsv', 'GabHateCorpus_annotations.tsv1', \n",
    "                          target_columns=['hd', 'cv', 'vo'], separator='\\t')\n",
    "\n",
    "reduce_dataset_stratified('data/raw/jigsaw-toxic-comment/train.csv', 'train1.csv', \n",
    "                          target_columns=['toxic', 'severe_toxic', 'obscene', 'threat', 'insult', 'identity_hate'])\n",
    "\n",
    "reduce_dataset_stratified('data/raw/jigsaw-toxic-comment/test_labels.csv', 'test_labels1.csv', \n",
    "                          target_columns=['toxic', 'severe_toxic', 'obscene', 'threat', 'insult', 'identity_hate'])\n",
    "\n",
    "# For the second .csv file (no clear target variable, using random sampling)\n",
    "reduce_dataset_stratified('data/raw/jigsaw-toxic-comment/test.csv', 'test1.csv')\n",
    "\n",
    "# For the third .csv file (with multiple target columns)\n",
    "reduce_dataset_stratified('path_to_your_third_csv_file.csv', 'reduced_csv_file3.csv', \n",
    "                          target_columns=['toxic', 'severe_toxic', 'obscene', 'threat', 'insult', 'identity_hate'])\n",
    "\n",
    "# For the last .csv file (tweet dataset, using 'cyberbullying_type' as target)\n",
    "reduce_dataset_stratified('data/raw/twitter/cyberbullying_tweets.csv', 'cyberbullying_tweets1.csv', \n",
    "                          target_columns='cyberbullying_type')"
   ]
  }
 ],
 "metadata": {
  "kernelspec": {
   "display_name": "Python 3 (ipykernel)",
   "language": "python",
   "name": "python3"
  },
  "language_info": {
   "codemirror_mode": {
    "name": "ipython",
    "version": 3
   },
   "file_extension": ".py",
   "mimetype": "text/x-python",
   "name": "python",
   "nbconvert_exporter": "python",
   "pygments_lexer": "ipython3",
   "version": "3.10.16"
  }
 },
 "nbformat": 4,
 "nbformat_minor": 5
}
